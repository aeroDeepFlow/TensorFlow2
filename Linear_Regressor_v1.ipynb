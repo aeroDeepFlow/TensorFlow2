{
 "cells": [
  {
   "cell_type": "code",
   "execution_count": 1,
   "metadata": {},
   "outputs": [],
   "source": [
    "# Imports\n",
    "\n",
    "import tensorflow as tf\n",
    "import numpy as np\n",
    "import pandas as pd\n",
    "from tensorflow.keras import Model\n",
    "from tensorflow.keras.datasets import boston_housing\n",
    "from sklearn.preprocessing import StandardScaler\n",
    "import matplotlib.pyplot as plt"
   ]
  },
  {
   "cell_type": "code",
   "execution_count": 2,
   "metadata": {},
   "outputs": [
    {
     "data": {
      "text/plain": [
       "'2.0.0'"
      ]
     },
     "execution_count": 2,
     "metadata": {},
     "output_type": "execute_result"
    }
   ],
   "source": [
    "# tensorflow version\n",
    "\n",
    "tf.__version__"
   ]
  },
  {
   "cell_type": "code",
   "execution_count": 3,
   "metadata": {},
   "outputs": [],
   "source": [
    "# Load dataset and split it into train and test\n",
    "\n",
    "(_X_train, _y_train), (_X_test, _y_test) = boston_housing.load_data()"
   ]
  },
  {
   "cell_type": "code",
   "execution_count": 4,
   "metadata": {},
   "outputs": [
    {
     "name": "stdout",
     "output_type": "stream",
     "text": [
      "Trainig_Set Dims: (404, 13)\n",
      "Test_Set Dims: (102, 13)\n",
      "\n"
     ]
    }
   ],
   "source": [
    "print(\"Trainig_Set Dims: {}\\nTest_Set Dims: {}\\n\".format(_X_train.shape, _X_test.shape))"
   ]
  },
  {
   "cell_type": "code",
   "execution_count": 5,
   "metadata": {},
   "outputs": [],
   "source": [
    "# Reshaping _ys to apply Scikit StandardScaler\n",
    "\n",
    "y_train = _y_train.reshape((-1, 1)).astype('float32')\n",
    "y_test = _y_test.reshape((-1, 1)).astype('float32')"
   ]
  },
  {
   "cell_type": "code",
   "execution_count": 6,
   "metadata": {},
   "outputs": [],
   "source": [
    "#Scaling Inputs\n",
    "\n",
    "def scalerFunc(data):\n",
    "    return [StandardScaler().fit_transform(dSet).astype('float32') for dSet in data]\n",
    "\n",
    "X_train, X_test  = scalerFunc((_X_train, _X_test))"
   ]
  },
  {
   "cell_type": "code",
   "execution_count": 7,
   "metadata": {},
   "outputs": [],
   "source": [
    "# Batch, Learning_rate & epochs definitions\n",
    "\n",
    "batch = 64\n",
    "learning_rate = 0.01\n",
    "epochs = 1000"
   ]
  },
  {
   "cell_type": "code",
   "execution_count": 8,
   "metadata": {},
   "outputs": [],
   "source": [
    "# A simple Linear Regressor I class. It Inherits from Model Keras Class \n",
    "\n",
    "class LinearRegresionI(Model):\n",
    "    \n",
    "    def __init__(self, num_predictors):\n",
    "        super(LinearRegresionI, self).__init__()\n",
    "        self.w = tf.Variable(tf.random.normal([num_predictors, 1], dtype='float32'),\n",
    "                                   name='W', trainable=True)\n",
    "        self.b = tf.Variable(tf.zeros([1, 1], dtype='float32'), name='b', trainable=True)\n",
    "    \n",
    "    def call(self, inputs):\n",
    "        return tf.add(tf.matmul(inputs, self.w), self.b)"
   ]
  },
  {
   "cell_type": "code",
   "execution_count": 9,
   "metadata": {},
   "outputs": [],
   "source": [
    "# LinearRegressionII instance class\n",
    "lrI = LinearRegresionI(num_predictors=X_train.shape[1])"
   ]
  },
  {
   "cell_type": "code",
   "execution_count": 10,
   "metadata": {},
   "outputs": [],
   "source": [
    "# Functions that returns train and test tf.data.Dataset objects \n",
    "\n",
    "def dataBatch(dataTrain, dataTest, batch_size=batch):\n",
    "     return tf.data.Dataset.from_tensor_slices(dataTrain).shuffle(len(dataTrain[0])).batch(batch_size), \\\n",
    "            tf.data.Dataset.from_tensor_slices(dataTest).batch(batch_size)\n",
    "\n",
    "train_batch, test_batch = dataBatch((X_train, y_train), (X_test, y_test))"
   ]
  },
  {
   "cell_type": "code",
   "execution_count": 11,
   "metadata": {},
   "outputs": [],
   "source": [
    "# loss function, optimizer and metrics objects definitions\n",
    "\n",
    "loss = tf.keras.losses.MeanSquaredError()\n",
    "optimizer = tf.keras.optimizers.SGD(learning_rate=learning_rate)\n",
    "\n",
    "train_loss = tf.keras.metrics.Mean(name='train_loss')\n",
    "train_rmse = tf.keras.metrics.RootMeanSquaredError(name='train_rmse')\n",
    "\n",
    "test_loss = tf.keras.metrics.Mean(name='test_loss')\n",
    "test_rmse = tf.keras.metrics.RootMeanSquaredError(name='test_rmse')"
   ]
  },
  {
   "cell_type": "code",
   "execution_count": 12,
   "metadata": {},
   "outputs": [],
   "source": [
    "# Learning function. @tf.function, tf.GradientTape\n",
    "\n",
    "@tf.function\n",
    "def trainning_test_step(model, loss_fn, optimizer, inputs, labels, Train=True):\n",
    "    if Train:\n",
    "        with tf.GradientTape() as tape:\n",
    "            predictions = model(inputs)\n",
    "            loss_ = loss_fn(labels, predictions)\n",
    "            grads = tape.gradient(loss_, model.trainable_variables)\n",
    "            optimizer.apply_gradients(zip(grads, model.trainable_variables))\n",
    "        \n",
    "        train_loss(loss_)\n",
    "        train_rmse(labels, predictions)\n",
    "        \n",
    "    predictions = model(inputs)\n",
    "    loss_ = loss_fn(labels, predictions)\n",
    "    test_loss(loss_)\n",
    "    test_rmse(labels, predictions)"
   ]
  },
  {
   "cell_type": "code",
   "execution_count": 13,
   "metadata": {
    "scrolled": false
   },
   "outputs": [
    {
     "name": "stdout",
     "output_type": "stream",
     "text": [
      "Final Iteration: Epoch: 999 Train_Loss 24.264299392700195 Train_rmse 4.927485466003418\n"
     ]
    }
   ],
   "source": [
    "# Training Loop\n",
    "\n",
    "Train_Loss = []\n",
    "Train_RSME = []\n",
    "\n",
    "for epoch in range(epochs):\n",
    "    for train_input, train_label in train_batch:\n",
    "        trainning_test_step(lrI, loss, optimizer, train_input, train_label)\n",
    "        Train_Loss.append(train_loss.result().numpy())\n",
    "        Train_RSME.append(train_rmse.result().numpy())\n",
    "\n",
    "print(\"Final Iteration: Epoch: {} Train_Loss {} Train_rmse {}\".format(epoch, \n",
    "                                                                      Train_Loss[-1], \n",
    "                                                                      Train_RSME[-1]))"
   ]
  },
  {
   "cell_type": "code",
   "execution_count": 14,
   "metadata": {},
   "outputs": [
    {
     "name": "stdout",
     "output_type": "stream",
     "text": [
      "Final Iteration: Epoch: 999 Train_Loss 22.139591217041016 Train_rmse 4.717100143432617\n"
     ]
    }
   ],
   "source": [
    "# Test loop\n",
    "\n",
    "Test_Loss = []\n",
    "Test_RSME = []\n",
    "\n",
    "for epoch in range(epochs):\n",
    "    for test_input, test_label in test_batch:\n",
    "        trainning_test_step(lrI, loss, optimizer, test_input, test_label)\n",
    "        Test_Loss.append(test_loss.result().numpy())\n",
    "        Test_RSME.append(test_rmse.result().numpy())\n",
    "\n",
    "print(\"Final Iteration: Epoch: {} Train_Loss {} Train_rmse {}\".format(epoch, \n",
    "                                                                      Test_Loss[-1], \n",
    "                                                                      Test_RSME[-1]))"
   ]
  },
  {
   "cell_type": "code",
   "execution_count": null,
   "metadata": {},
   "outputs": [],
   "source": []
  }
 ],
 "metadata": {
  "@webio": {
   "lastCommId": null,
   "lastKernelId": null
  },
  "kernelspec": {
   "display_name": "Python 3",
   "language": "python",
   "name": "python3"
  },
  "language_info": {
   "codemirror_mode": {
    "name": "ipython",
    "version": 3
   },
   "file_extension": ".py",
   "mimetype": "text/x-python",
   "name": "python",
   "nbconvert_exporter": "python",
   "pygments_lexer": "ipython3",
   "version": "3.7.4"
  },
  "toc": {
   "base_numbering": 1,
   "nav_menu": {},
   "number_sections": true,
   "sideBar": true,
   "skip_h1_title": false,
   "title_cell": "Table of Contents",
   "title_sidebar": "Contents",
   "toc_cell": false,
   "toc_position": {},
   "toc_section_display": true,
   "toc_window_display": false
  },
  "varInspector": {
   "cols": {
    "lenName": 16,
    "lenType": 16,
    "lenVar": 40
   },
   "kernels_config": {
    "python": {
     "delete_cmd_postfix": "",
     "delete_cmd_prefix": "del ",
     "library": "var_list.py",
     "varRefreshCmd": "print(var_dic_list())"
    },
    "r": {
     "delete_cmd_postfix": ") ",
     "delete_cmd_prefix": "rm(",
     "library": "var_list.r",
     "varRefreshCmd": "cat(var_dic_list()) "
    }
   },
   "types_to_exclude": [
    "module",
    "function",
    "builtin_function_or_method",
    "instance",
    "_Feature"
   ],
   "window_display": false
  }
 },
 "nbformat": 4,
 "nbformat_minor": 2
}
