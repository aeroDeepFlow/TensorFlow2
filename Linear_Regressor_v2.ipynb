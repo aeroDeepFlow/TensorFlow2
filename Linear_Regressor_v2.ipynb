{
 "cells": [
  {
   "cell_type": "code",
   "execution_count": 1,
   "metadata": {},
   "outputs": [],
   "source": [
    "# Imports\n",
    "\n",
    "import tensorflow as tf\n",
    "import numpy as np\n",
    "import pandas as pd\n",
    "from tensorflow.keras import Model\n",
    "from tensorflow.keras.datasets import boston_housing\n",
    "from sklearn.preprocessing import StandardScaler\n",
    "import matplotlib.pyplot as plt\n",
    "import seaborn as sns"
   ]
  },
  {
   "cell_type": "code",
   "execution_count": 2,
   "metadata": {},
   "outputs": [
    {
     "data": {
      "text/plain": [
       "'2.0.0'"
      ]
     },
     "execution_count": 2,
     "metadata": {},
     "output_type": "execute_result"
    }
   ],
   "source": [
    "# tensorflow version\n",
    "\n",
    "tf.__version__"
   ]
  },
  {
   "cell_type": "code",
   "execution_count": 3,
   "metadata": {},
   "outputs": [],
   "source": [
    "# Load dataset and split it into train and val\n",
    "\n",
    "(_X_train, _y_train), (_X_val, _y_val) = boston_housing.load_data()"
   ]
  },
  {
   "cell_type": "code",
   "execution_count": 4,
   "metadata": {},
   "outputs": [
    {
     "name": "stdout",
     "output_type": "stream",
     "text": [
      "Trainig_Set Dims: (404, 13)\n",
      "Test_Set Dims: (102, 13)\n",
      "\n"
     ]
    }
   ],
   "source": [
    "print(\"Trainig_Set Dims: {}\\nTest_Set Dims: {}\\n\".format(_X_train.shape, _X_val.shape))"
   ]
  },
  {
   "cell_type": "code",
   "execution_count": 5,
   "metadata": {},
   "outputs": [],
   "source": [
    "# Reshaping _ys to apply Scikit StandardScaler\n",
    "\n",
    "y_train = _y_train.reshape((-1, 1)).astype('float32')\n",
    "y_val = _y_val.reshape((-1, 1)).astype('float32')"
   ]
  },
  {
   "cell_type": "code",
   "execution_count": 6,
   "metadata": {},
   "outputs": [],
   "source": [
    "#Scaling Inputs\n",
    "\n",
    "def scalerFunc(data):\n",
    "    return [StandardScaler().fit_transform(dSet).astype('float32') for dSet in data]\n",
    "\n",
    "X_train, X_val  = scalerFunc((_X_train, _X_val))"
   ]
  },
  {
   "cell_type": "code",
   "execution_count": 7,
   "metadata": {},
   "outputs": [],
   "source": [
    "# Batch, Learning_rate & epochs definitions\n",
    "\n",
    "batch = 64\n",
    "learning_rate = 0.01\n",
    "epochs = 1000"
   ]
  },
  {
   "cell_type": "code",
   "execution_count": 8,
   "metadata": {},
   "outputs": [],
   "source": [
    "# A simple Linear Regressor II class. It Inherits from Model Keras Class \n",
    "\n",
    "class LinearRegresionII(Model):\n",
    "    \n",
    "    def __init__(self, num_predictors):\n",
    "        super(LinearRegresionII, self).__init__()\n",
    "        self.num_predictors = num_predictors\n",
    "        \n",
    "    def build(self, input_shape):\n",
    "        self.w = self.add_weight(shape=(self.num_predictors, 1),\n",
    "                                 initializer='random_normal',\n",
    "                                 trainable=True)\n",
    "        self.b = self.add_weight(shape=(1,1),\n",
    "                                 initializer='random_normal',\n",
    "                                 trainable=True)\n",
    "    \n",
    "    def call(self, inputs):\n",
    "        return tf.add(tf.matmul(inputs, self.w), self.b)"
   ]
  },
  {
   "cell_type": "code",
   "execution_count": 9,
   "metadata": {},
   "outputs": [],
   "source": [
    "# LinearRegressionII instance class\n",
    "lrII = LinearRegresionII(num_predictors=X_train.shape[1])"
   ]
  },
  {
   "cell_type": "code",
   "execution_count": 10,
   "metadata": {},
   "outputs": [],
   "source": [
    "# Functions that returns train and val tf.data.Dataset objects \n",
    "\n",
    "def dataBatch(dataTrain, dataVal, batch_size=batch):\n",
    "     return tf.data.Dataset.from_tensor_slices(dataTrain).shuffle(len(dataTrain[0])).batch(batch_size), \\\n",
    "            tf.data.Dataset.from_tensor_slices(dataVal).batch(batch_size)\n",
    "\n",
    "train_batch, val_batch = dataBatch((X_train, y_train), (X_val, y_val))"
   ]
  },
  {
   "cell_type": "code",
   "execution_count": 11,
   "metadata": {},
   "outputs": [],
   "source": [
    "# loss function, optimizer and metrics objects definitions\n",
    "\n",
    "loss = tf.keras.losses.MeanSquaredError()\n",
    "optimizer = tf.keras.optimizers.SGD(learning_rate=learning_rate)\n",
    "\n",
    "train_loss = tf.keras.metrics.Mean(name='train_loss')\n",
    "train_rmse = tf.keras.metrics.RootMeanSquaredError(name='train_rmse')\n",
    "\n",
    "val_loss = tf.keras.metrics.Mean(name='val_loss')\n",
    "val_rmse = tf.keras.metrics.RootMeanSquaredError(name='val_rmse')"
   ]
  },
  {
   "cell_type": "code",
   "execution_count": 12,
   "metadata": {},
   "outputs": [],
   "source": [
    "# Learning function. @tf.function, tf.GradientTape\n",
    "\n",
    "@tf.function\n",
    "def trainning_val_step(model, loss_fn, optimizer, inputs, labels, Train=True):\n",
    "    if Train:\n",
    "        with tf.GradientTape() as tape:\n",
    "            predictions = model(inputs)\n",
    "            loss_ = loss_fn(labels, predictions)\n",
    "            grads = tape.gradient(loss_, model.trainable_variables)\n",
    "            optimizer.apply_gradients(zip(grads, model.trainable_variables))\n",
    "        \n",
    "        train_loss(loss_)\n",
    "        train_rmse(labels, predictions)\n",
    "        \n",
    "    predictions = model(inputs)\n",
    "    loss_ = loss_fn(labels, predictions)\n",
    "    val_loss(loss_)\n",
    "    val_rmse(labels, predictions)"
   ]
  },
  {
   "cell_type": "code",
   "execution_count": 13,
   "metadata": {
    "scrolled": false
   },
   "outputs": [
    {
     "name": "stdout",
     "output_type": "stream",
     "text": [
      "Final Iteration: Epoch: 999 Train_Loss 24.18004035949707 Train_rmse 4.9185638427734375\n",
      "Final Iteration: Epoch: 999 Val_Loss 23.647247314453125 Val_rmse 4.858579158782959\n"
     ]
    }
   ],
   "source": [
    "# Training-Validation Loops\n",
    "\n",
    "Train_Loss = []\n",
    "Train_rmse = []\n",
    "Val_Loss = []\n",
    "Val_rmse = []\n",
    "\n",
    "for epoch in range(epochs):\n",
    "    for train_input, train_label in train_batch:\n",
    "        trainning_val_step(lrII, loss, optimizer, train_input, train_label)\n",
    "\n",
    "    for val_input, val_label in val_batch:\n",
    "        trainning_val_step(lrII, loss, optimizer, val_input, val_label, Train=False)\n",
    "        \n",
    "    Train_Loss.append(train_loss.result().numpy())\n",
    "    Train_rmse.append(train_rmse.result().numpy())\n",
    "    \n",
    "    Val_Loss.append(val_loss.result().numpy())\n",
    "    Val_rmse.append(val_rmse.result().numpy())    \n",
    "              \n",
    "print(\"Final Iteration: Epoch: {} Train_Loss {} Train_rmse {}\".format(epoch, \n",
    "                                                                     train_loss.result().numpy(), \n",
    "                                                                     train_rmse.result().numpy()))\n",
    "print(\"Final Iteration: Epoch: {} Val_Loss {} Val_rmse {}\".format(epoch, \n",
    "                                                                      val_loss.result().numpy(), \n",
    "                                                                      val_rmse.result().numpy()))  "
   ]
  },
  {
   "cell_type": "code",
   "execution_count": 14,
   "metadata": {},
   "outputs": [
    {
     "data": {
      "image/png": "[encoded data removed]",
      "text/plain": [
       "<Figure size 432x288 with 1 Axes>"
      ]
     },
     "metadata": {
      "needs_background": "light"
     },
     "output_type": "display_data"
    }
   ],
   "source": [
    "loss_plot = pd.DataFrame(np.transpose([range(epochs), Train_Loss, Val_Loss]), \\\n",
    "                         columns=['Epochs', 'Train', 'Validation']).melt(id_vars='Epochs', var_name='Data Set')\n",
    "sns.lineplot(x='Epochs', y='value', data=loss_plot, hue='Data Set');"
   ]
  },
  {
   "cell_type": "code",
   "execution_count": 15,
   "metadata": {},
   "outputs": [
    {
     "data": {
      "image/png": "[encoded data removed]",
      "text/plain": [
       "<Figure size 432x288 with 1 Axes>"
      ]
     },
     "metadata": {
      "needs_background": "light"
     },
     "output_type": "display_data"
    }
   ],
   "source": [
    "loss_plot = pd.DataFrame(np.transpose([range(epochs), Train_rmse, Val_rmse]), \\\n",
    "                         columns=['Epochs', 'Train', 'Validation']).melt(id_vars='Epochs', var_name='Data Set')\n",
    "sns.lineplot(x='Epochs', y='value', data=loss_plot, hue='Data Set');"
   ]
  },
  {
   "cell_type": "code",
   "execution_count": null,
   "metadata": {},
   "outputs": [],
   "source": []
  }
 ],
 "metadata": {
  "@webio": {
   "lastCommId": null,
   "lastKernelId": null
  },
  "kernelspec": {
   "display_name": "Python 3",
   "language": "python",
   "name": "python3"
  },
  "language_info": {
   "codemirror_mode": {
    "name": "ipython",
    "version": 3
   },
   "file_extension": ".py",
   "mimetype": "text/x-python",
   "name": "python",
   "nbconvert_exporter": "python",
   "pygments_lexer": "ipython3",
   "version": "3.7.4"
  },
  "latex_envs": {
   "LaTeX_envs_menu_present": true,
   "autoclose": false,
   "autocomplete": true,
   "bibliofile": "biblio.bib",
   "cite_by": "apalike",
   "current_citInitial": 1,
   "eqLabelWithNumbers": true,
   "eqNumInitial": 1,
   "hotkeys": {
    "equation": "Ctrl-E",
    "itemize": "Ctrl-I"
   },
   "labels_anchors": false,
   "latex_user_defs": false,
   "report_style_numbering": false,
   "user_envs_cfg": false
  },
  "toc": {
   "base_numbering": 1,
   "nav_menu": {},
   "number_sections": true,
   "sideBar": true,
   "skip_h1_title": false,
   "title_cell": "Table of Contents",
   "title_sidebar": "Contents",
   "toc_cell": false,
   "toc_position": {},
   "toc_section_display": true,
   "toc_window_display": false
  },
  "varInspector": {
   "cols": {
    "lenName": 16,
    "lenType": 16,
    "lenVar": 40
   },
   "kernels_config": {
    "python": {
     "delete_cmd_postfix": "",
     "delete_cmd_prefix": "del ",
     "library": "var_list.py",
     "varRefreshCmd": "print(var_dic_list())"
    },
    "r": {
     "delete_cmd_postfix": ") ",
     "delete_cmd_prefix": "rm(",
     "library": "var_list.r",
     "varRefreshCmd": "cat(var_dic_list()) "
    }
   },
   "types_to_exclude": [
    "module",
    "function",
    "builtin_function_or_method",
    "instance",
    "_Feature"
   ],
   "window_display": false
  }
 },
 "nbformat": 4,
 "nbformat_minor": 2
}
